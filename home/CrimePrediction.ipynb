{
  "cells": [
    {
      "cell_type": "code",
      "execution_count": 61,
      "metadata": {
        "id": "lln523haJepw"
      },
      "outputs": [],
      "source": [
        "import pandas as pd\n",
        "import numpy as np\n",
        "import matplotlib.pyplot as plt\n",
        "import seaborn as sns\n",
        "%matplotlib inline"
      ]
    },
    {
      "cell_type": "code",
      "execution_count": 62,
      "metadata": {
        "id": "1KYa9pgSLKQi"
      },
      "outputs": [],
      "source": [
        "dataset=pd.read_csv('../static/dataset/data.csv')"
      ]
    },
    {
      "cell_type": "code",
      "execution_count": 63,
      "metadata": {
        "id": "mS6nkSkCJwa9"
      },
      "outputs": [],
      "source": [
        "data=pd.read_csv('../static/dataset/data.csv')"
      ]
    },
    {
      "cell_type": "code",
      "execution_count": 64,
      "metadata": {
        "colab": {
          "base_uri": "https://localhost:8080/",
          "height": 399
        },
        "id": "OJ5ct0geJ3le",
        "outputId": "6df97bd8-9524-492e-a5d4-d9e343965730"
      },
      "outputs": [
        {
          "data": {
            "text/html": [
              "<div>\n",
              "<style scoped>\n",
              "    .dataframe tbody tr th:only-of-type {\n",
              "        vertical-align: middle;\n",
              "    }\n",
              "\n",
              "    .dataframe tbody tr th {\n",
              "        vertical-align: top;\n",
              "    }\n",
              "\n",
              "    .dataframe thead th {\n",
              "        text-align: right;\n",
              "    }\n",
              "</style>\n",
              "<table border=\"1\" class=\"dataframe\">\n",
              "  <thead>\n",
              "    <tr style=\"text-align: right;\">\n",
              "      <th></th>\n",
              "      <th>timestamp</th>\n",
              "      <th>act379</th>\n",
              "      <th>act13</th>\n",
              "      <th>act279</th>\n",
              "      <th>act323</th>\n",
              "      <th>act363</th>\n",
              "      <th>act302</th>\n",
              "      <th>latitude</th>\n",
              "      <th>longitude</th>\n",
              "    </tr>\n",
              "  </thead>\n",
              "  <tbody>\n",
              "    <tr>\n",
              "      <th>0</th>\n",
              "      <td>28-02-2021 21:00</td>\n",
              "      <td>1</td>\n",
              "      <td>0</td>\n",
              "      <td>0</td>\n",
              "      <td>0</td>\n",
              "      <td>0</td>\n",
              "      <td>0</td>\n",
              "      <td>22.737260</td>\n",
              "      <td>75.875987</td>\n",
              "    </tr>\n",
              "    <tr>\n",
              "      <th>1</th>\n",
              "      <td>28-02-2021 21:15</td>\n",
              "      <td>1</td>\n",
              "      <td>0</td>\n",
              "      <td>0</td>\n",
              "      <td>0</td>\n",
              "      <td>0</td>\n",
              "      <td>0</td>\n",
              "      <td>22.720992</td>\n",
              "      <td>75.876083</td>\n",
              "    </tr>\n",
              "    <tr>\n",
              "      <th>2</th>\n",
              "      <td>28-02-2021 10:15</td>\n",
              "      <td>0</td>\n",
              "      <td>0</td>\n",
              "      <td>1</td>\n",
              "      <td>0</td>\n",
              "      <td>0</td>\n",
              "      <td>0</td>\n",
              "      <td>22.736676</td>\n",
              "      <td>75.883168</td>\n",
              "    </tr>\n",
              "    <tr>\n",
              "      <th>3</th>\n",
              "      <td>28-02-2021 10:15</td>\n",
              "      <td>0</td>\n",
              "      <td>0</td>\n",
              "      <td>1</td>\n",
              "      <td>0</td>\n",
              "      <td>0</td>\n",
              "      <td>0</td>\n",
              "      <td>22.746527</td>\n",
              "      <td>75.887139</td>\n",
              "    </tr>\n",
              "    <tr>\n",
              "      <th>4</th>\n",
              "      <td>28-02-2021 10:30</td>\n",
              "      <td>0</td>\n",
              "      <td>0</td>\n",
              "      <td>1</td>\n",
              "      <td>0</td>\n",
              "      <td>0</td>\n",
              "      <td>0</td>\n",
              "      <td>22.769531</td>\n",
              "      <td>75.888772</td>\n",
              "    </tr>\n",
              "  </tbody>\n",
              "</table>\n",
              "</div>"
            ],
            "text/plain": [
              "          timestamp  act379  act13  act279  act323  act363  act302   latitude  \\\n",
              "0  28-02-2021 21:00       1      0       0       0       0       0  22.737260   \n",
              "1  28-02-2021 21:15       1      0       0       0       0       0  22.720992   \n",
              "2  28-02-2021 10:15       0      0       1       0       0       0  22.736676   \n",
              "3  28-02-2021 10:15       0      0       1       0       0       0  22.746527   \n",
              "4  28-02-2021 10:30       0      0       1       0       0       0  22.769531   \n",
              "\n",
              "   longitude  \n",
              "0  75.875987  \n",
              "1  75.876083  \n",
              "2  75.883168  \n",
              "3  75.887139  \n",
              "4  75.888772  "
            ]
          },
          "execution_count": 64,
          "metadata": {},
          "output_type": "execute_result"
        }
      ],
      "source": [
        "data.head()\n"
      ]
    },
    {
      "cell_type": "code",
      "execution_count": 65,
      "metadata": {
        "colab": {
          "base_uri": "https://localhost:8080/"
        },
        "id": "f6c656nbKSmZ",
        "outputId": "b5869863-8705-4eb5-f6ab-727a011d48b2"
      },
      "outputs": [
        {
          "name": "stdout",
          "output_type": "stream",
          "text": [
            "<class 'str'>\n",
            "<class 'numpy.int64'>\n",
            "<class 'numpy.int64'>\n",
            "<class 'numpy.int64'>\n",
            "<class 'numpy.int64'>\n",
            "<class 'numpy.int64'>\n",
            "<class 'numpy.int64'>\n",
            "<class 'numpy.float64'>\n",
            "<class 'numpy.float64'>\n"
          ]
        }
      ],
      "source": [
        "for col in data:\n",
        "    print (type(data[col][1]))"
      ]
    },
    {
      "cell_type": "code",
      "execution_count": 66,
      "metadata": {
        "id": "Ma-j-jfzKYA8"
      },
      "outputs": [],
      "source": [
        "data['timestamp'] = pd.to_datetime(data['timestamp'],errors='coerce')\n"
      ]
    },
    {
      "cell_type": "code",
      "execution_count": 67,
      "metadata": {
        "id": "q9lJgoLTKeAQ"
      },
      "outputs": [],
      "source": [
        "data['timestamp'] = pd.to_datetime(data['timestamp'], format = '%d/%m/%Y %H:%M:%S')"
      ]
    },
    {
      "cell_type": "code",
      "execution_count": 68,
      "metadata": {
        "colab": {
          "base_uri": "https://localhost:8080/"
        },
        "id": "uePnDhhcKkgH",
        "outputId": "301e0aec-1433-4012-b5eb-1d6bb528946a"
      },
      "outputs": [
        {
          "data": {
            "text/plain": [
              "0      2021-02-28 21:00:00\n",
              "1      2021-02-28 21:15:00\n",
              "2      2021-02-28 10:15:00\n",
              "3      2021-02-28 10:15:00\n",
              "4      2021-02-28 10:30:00\n",
              "               ...        \n",
              "8355   2021-03-17 04:50:00\n",
              "8356   2021-03-17 21:10:00\n",
              "8357   2021-03-17 12:10:00\n",
              "8358   2021-03-17 10:35:00\n",
              "8359   2021-03-17 23:45:00\n",
              "Name: timestamp, Length: 8360, dtype: datetime64[ns]"
            ]
          },
          "execution_count": 68,
          "metadata": {},
          "output_type": "execute_result"
        }
      ],
      "source": [
        "data['timestamp']"
      ]
    },
    {
      "cell_type": "code",
      "execution_count": 69,
      "metadata": {
        "colab": {
          "base_uri": "https://localhost:8080/"
        },
        "id": "ZWU1QpltKo-g",
        "outputId": "87479dc8-f387-4a35-8a07-187dd294dbc9"
      },
      "outputs": [
        {
          "name": "stderr",
          "output_type": "stream",
          "text": [
            "C:\\Users\\palle tarun kumar\\AppData\\Local\\Temp\\ipykernel_21896\\833193866.py:8: FutureWarning: Series.dt.weekofyear and Series.dt.week have been deprecated. Please use Series.dt.isocalendar().week instead.\n",
            "  \"week\": column_1.dt.week,\n",
            "C:\\Users\\palle tarun kumar\\AppData\\Local\\Temp\\ipykernel_21896\\833193866.py:9: FutureWarning: Series.dt.weekofyear and Series.dt.week have been deprecated. Please use Series.dt.isocalendar().week instead.\n",
            "  \"weekofyear\": column_1.dt.weekofyear\n"
          ]
        }
      ],
      "source": [
        "column_1 = data.iloc[:,0]\n",
        "\n",
        "db=pd.DataFrame({\"year\": column_1.dt.year,\n",
        "              \"month\": column_1.dt.month,\n",
        "              \"day\": column_1.dt.day,\n",
        "              \"hour\": column_1.dt.hour,\n",
        "              \"dayofyear\": column_1.dt.dayofyear,\n",
        "              \"week\": column_1.dt.week,\n",
        "              \"weekofyear\": column_1.dt.weekofyear\n",
        "             })"
      ]
    },
    {
      "cell_type": "code",
      "execution_count": 70,
      "metadata": {
        "id": "N8tvzd5WLDUe"
      },
      "outputs": [],
      "source": [
        "dataset1=dataset.drop('timestamp',axis=1)"
      ]
    },
    {
      "cell_type": "code",
      "execution_count": 71,
      "metadata": {
        "id": "EkhPlUtHLGXi"
      },
      "outputs": [],
      "source": [
        "data1=pd.concat([db,dataset1],axis=1)"
      ]
    },
    {
      "cell_type": "code",
      "execution_count": 72,
      "metadata": {
        "colab": {
          "base_uri": "https://localhost:8080/"
        },
        "id": "HKADaMbULcWN",
        "outputId": "085370c5-0f26-4344-9148-2b38f2850e99"
      },
      "outputs": [
        {
          "name": "stdout",
          "output_type": "stream",
          "text": [
            "<class 'pandas.core.frame.DataFrame'>\n",
            "RangeIndex: 8360 entries, 0 to 8359\n",
            "Data columns (total 15 columns):\n",
            " #   Column      Non-Null Count  Dtype  \n",
            "---  ------      --------------  -----  \n",
            " 0   year        8272 non-null   float64\n",
            " 1   month       8272 non-null   float64\n",
            " 2   day         8272 non-null   float64\n",
            " 3   hour        8272 non-null   float64\n",
            " 4   dayofyear   8272 non-null   float64\n",
            " 5   week        8272 non-null   float64\n",
            " 6   weekofyear  8272 non-null   float64\n",
            " 7   act379      8360 non-null   int64  \n",
            " 8   act13       8360 non-null   int64  \n",
            " 9   act279      8360 non-null   int64  \n",
            " 10  act323      8360 non-null   int64  \n",
            " 11  act363      8360 non-null   int64  \n",
            " 12  act302      8360 non-null   int64  \n",
            " 13  latitude    8360 non-null   float64\n",
            " 14  longitude   8360 non-null   float64\n",
            "dtypes: float64(9), int64(6)\n",
            "memory usage: 979.8 KB\n"
          ]
        }
      ],
      "source": [
        "data1.info()"
      ]
    },
    {
      "cell_type": "code",
      "execution_count": 73,
      "metadata": {
        "id": "l87r0VtQMFAB"
      },
      "outputs": [],
      "source": [
        "data1.dropna(inplace=True)"
      ]
    },
    {
      "cell_type": "code",
      "execution_count": 74,
      "metadata": {
        "colab": {
          "base_uri": "https://localhost:8080/",
          "height": 226
        },
        "id": "2JGQt3FpMPB8",
        "outputId": "250990c6-133f-4baf-add6-2fc3ee0ffd53"
      },
      "outputs": [
        {
          "data": {
            "text/html": [
              "<div>\n",
              "<style scoped>\n",
              "    .dataframe tbody tr th:only-of-type {\n",
              "        vertical-align: middle;\n",
              "    }\n",
              "\n",
              "    .dataframe tbody tr th {\n",
              "        vertical-align: top;\n",
              "    }\n",
              "\n",
              "    .dataframe thead th {\n",
              "        text-align: right;\n",
              "    }\n",
              "</style>\n",
              "<table border=\"1\" class=\"dataframe\">\n",
              "  <thead>\n",
              "    <tr style=\"text-align: right;\">\n",
              "      <th></th>\n",
              "      <th>year</th>\n",
              "      <th>month</th>\n",
              "      <th>day</th>\n",
              "      <th>hour</th>\n",
              "      <th>dayofyear</th>\n",
              "      <th>week</th>\n",
              "      <th>weekofyear</th>\n",
              "      <th>act379</th>\n",
              "      <th>act13</th>\n",
              "      <th>act279</th>\n",
              "      <th>act323</th>\n",
              "      <th>act363</th>\n",
              "      <th>act302</th>\n",
              "      <th>latitude</th>\n",
              "      <th>longitude</th>\n",
              "    </tr>\n",
              "  </thead>\n",
              "  <tbody>\n",
              "    <tr>\n",
              "      <th>0</th>\n",
              "      <td>2021.0</td>\n",
              "      <td>2.0</td>\n",
              "      <td>28.0</td>\n",
              "      <td>21.0</td>\n",
              "      <td>59.0</td>\n",
              "      <td>8.0</td>\n",
              "      <td>8.0</td>\n",
              "      <td>1</td>\n",
              "      <td>0</td>\n",
              "      <td>0</td>\n",
              "      <td>0</td>\n",
              "      <td>0</td>\n",
              "      <td>0</td>\n",
              "      <td>22.737260</td>\n",
              "      <td>75.875987</td>\n",
              "    </tr>\n",
              "    <tr>\n",
              "      <th>1</th>\n",
              "      <td>2021.0</td>\n",
              "      <td>2.0</td>\n",
              "      <td>28.0</td>\n",
              "      <td>21.0</td>\n",
              "      <td>59.0</td>\n",
              "      <td>8.0</td>\n",
              "      <td>8.0</td>\n",
              "      <td>1</td>\n",
              "      <td>0</td>\n",
              "      <td>0</td>\n",
              "      <td>0</td>\n",
              "      <td>0</td>\n",
              "      <td>0</td>\n",
              "      <td>22.720992</td>\n",
              "      <td>75.876083</td>\n",
              "    </tr>\n",
              "    <tr>\n",
              "      <th>2</th>\n",
              "      <td>2021.0</td>\n",
              "      <td>2.0</td>\n",
              "      <td>28.0</td>\n",
              "      <td>10.0</td>\n",
              "      <td>59.0</td>\n",
              "      <td>8.0</td>\n",
              "      <td>8.0</td>\n",
              "      <td>0</td>\n",
              "      <td>0</td>\n",
              "      <td>1</td>\n",
              "      <td>0</td>\n",
              "      <td>0</td>\n",
              "      <td>0</td>\n",
              "      <td>22.736676</td>\n",
              "      <td>75.883168</td>\n",
              "    </tr>\n",
              "    <tr>\n",
              "      <th>3</th>\n",
              "      <td>2021.0</td>\n",
              "      <td>2.0</td>\n",
              "      <td>28.0</td>\n",
              "      <td>10.0</td>\n",
              "      <td>59.0</td>\n",
              "      <td>8.0</td>\n",
              "      <td>8.0</td>\n",
              "      <td>0</td>\n",
              "      <td>0</td>\n",
              "      <td>1</td>\n",
              "      <td>0</td>\n",
              "      <td>0</td>\n",
              "      <td>0</td>\n",
              "      <td>22.746527</td>\n",
              "      <td>75.887139</td>\n",
              "    </tr>\n",
              "    <tr>\n",
              "      <th>4</th>\n",
              "      <td>2021.0</td>\n",
              "      <td>2.0</td>\n",
              "      <td>28.0</td>\n",
              "      <td>10.0</td>\n",
              "      <td>59.0</td>\n",
              "      <td>8.0</td>\n",
              "      <td>8.0</td>\n",
              "      <td>0</td>\n",
              "      <td>0</td>\n",
              "      <td>1</td>\n",
              "      <td>0</td>\n",
              "      <td>0</td>\n",
              "      <td>0</td>\n",
              "      <td>22.769531</td>\n",
              "      <td>75.888772</td>\n",
              "    </tr>\n",
              "  </tbody>\n",
              "</table>\n",
              "</div>"
            ],
            "text/plain": [
              "     year  month   day  hour  dayofyear  week  weekofyear  act379  act13  \\\n",
              "0  2021.0    2.0  28.0  21.0       59.0   8.0         8.0       1      0   \n",
              "1  2021.0    2.0  28.0  21.0       59.0   8.0         8.0       1      0   \n",
              "2  2021.0    2.0  28.0  10.0       59.0   8.0         8.0       0      0   \n",
              "3  2021.0    2.0  28.0  10.0       59.0   8.0         8.0       0      0   \n",
              "4  2021.0    2.0  28.0  10.0       59.0   8.0         8.0       0      0   \n",
              "\n",
              "   act279  act323  act363  act302   latitude  longitude  \n",
              "0       0       0       0       0  22.737260  75.875987  \n",
              "1       0       0       0       0  22.720992  75.876083  \n",
              "2       1       0       0       0  22.736676  75.883168  \n",
              "3       1       0       0       0  22.746527  75.887139  \n",
              "4       1       0       0       0  22.769531  75.888772  "
            ]
          },
          "execution_count": 74,
          "metadata": {},
          "output_type": "execute_result"
        }
      ],
      "source": [
        "data1.head()"
      ]
    },
    {
      "cell_type": "code",
      "execution_count": 75,
      "metadata": {
        "id": "DUKVAYwtW3Hz"
      },
      "outputs": [],
      "source": [
        "X=data1.iloc[:,[1,2,3,4,5,6,13,14]].values\n",
        "y=data1.iloc[:,[7,8,9,10,11,12]].values"
      ]
    },
    {
      "cell_type": "markdown",
      "metadata": {
        "id": "wH_X29VS0z8Y"
      },
      "source": [
        "**KNN ALGORITHM**\n"
      ]
    },
    {
      "cell_type": "code",
      "execution_count": 76,
      "metadata": {
        "colab": {
          "base_uri": "https://localhost:8080/"
        },
        "id": "Fvt_I4T-JDSj",
        "outputId": "9803b3b6-e5a6-4d1d-b935-45dfbe409af5"
      },
      "outputs": [
        {
          "name": "stdout",
          "output_type": "stream",
          "text": [
            "0.9613293051359516\n"
          ]
        }
      ],
      "source": [
        "\n",
        "\n",
        "from sklearn.model_selection import train_test_split\n",
        "X_train, X_test, y_train, y_test = train_test_split(X, y, test_size=0.20, random_state=50)\n",
        "from sklearn.neighbors import KNeighborsClassifier\n",
        "knn = KNeighborsClassifier(n_neighbors=10)\n",
        "knn.fit(X_train,y_train)\n",
        "\n",
        "print(knn.score(X_test,y_test))"
      ]
    },
    {
      "cell_type": "code",
      "execution_count": 77,
      "metadata": {
        "colab": {
          "base_uri": "https://localhost:8080/"
        },
        "id": "9FH5RAVQlKFZ",
        "outputId": "c565b5cb-0bef-4482-9d54-7424b61db1b0"
      },
      "outputs": [
        {
          "name": "stdout",
          "output_type": "stream",
          "text": [
            "No Crime will occur\n"
          ]
        },
        {
          "name": "stderr",
          "output_type": "stream",
          "text": [
            "c:\\Python310\\lib\\site-packages\\sklearn\\base.py:458: UserWarning: X has feature names, but KNeighborsClassifier was fitted without feature names\n",
            "  warnings.warn(\n"
          ]
        }
      ],
      "source": [
        "new_data = pd.DataFrame([[2.0,28.0,21.0,59.0,9.0,9.0,12.120000,\t76.680000]],\n",
        "                            columns=['month','day','hour','dayoftheyear','week', 'weekoftheyear',  'latitude', 'longitude'])\n",
        "\n",
        "predicted_crimetype = knn.predict(new_data)\n",
        "crimes=['act379','act13', 'act279','act323','act363','act302']\n",
        "\n",
        "for i in range(len(predicted_crimetype)):\n",
        "  if predicted_crimetype[0][i]:\n",
        "    print(\"predicted crime:\",crimes[i])\n",
        "    break\n",
        "else:\n",
        "  print(\"No Crime will occur\")"
      ]
    },
    {
      "cell_type": "code",
      "execution_count": 78,
      "metadata": {
        "colab": {
          "base_uri": "https://localhost:8080/",
          "height": 447
        },
        "id": "0a7mgtee6Egx",
        "outputId": "242cadaa-6757-4cd2-f808-e2a9df7c48df"
      },
      "outputs": [
        {
          "data": {
            "text/plain": [
              "Text(0, 0.5, 'Error Rate')"
            ]
          },
          "execution_count": 78,
          "metadata": {},
          "output_type": "execute_result"
        },
        {
          "data": {
            "image/png": "[encoded data removed]",
            "text/plain": [
              "<Figure size 1000x600 with 1 Axes>"
            ]
          },
          "metadata": {},
          "output_type": "display_data"
        }
      ],
      "source": [
        "error_rate = []\n",
        "for i in range(1,140):\n",
        "  knn = KNeighborsClassifier(n_neighbors=i)\n",
        "  knn.fit(X_train,y_train)\n",
        "  pred_i = knn.predict(X_test)\n",
        "  error_rate.append(np.mean(pred_i != y_test))\n",
        "plt.figure(figsize=(10,6))\n",
        "plt.plot(range(1,140),error_rate,color='blue', linestyle='dashed', marker='o',\n",
        "         markerfacecolor='red', markersize=5)\n",
        "plt.title('Error Rate vs. K Value')\n",
        "plt.xlabel('K')\n",
        "plt.ylabel('Error Rate')"
      ]
    },
    {
      "cell_type": "markdown",
      "metadata": {
        "id": "TiMHTG5Y09mB"
      },
      "source": [
        "**RANDOMN FOREST ALGORTHM**"
      ]
    },
    {
      "cell_type": "code",
      "execution_count": 79,
      "metadata": {
        "colab": {
          "base_uri": "https://localhost:8080/"
        },
        "id": "4HY1US50YmUe",
        "outputId": "9466c822-9726-4d3d-98b3-be431c46cbd2"
      },
      "outputs": [
        {
          "data": {
            "text/plain": [
              "0.9836858006042296"
            ]
          },
          "execution_count": 79,
          "metadata": {},
          "output_type": "execute_result"
        }
      ],
      "source": [
        "from sklearn.ensemble import RandomForestClassifier\n",
        "rfc = RandomForestClassifier(n_estimators=100)\n",
        "\n",
        "rfc.fit(X_train, y_train)\n",
        "\n",
        "y_pred=rfc.predict(X_test)\n",
        "\n",
        "rfc.score(X_test,y_test)\n",
        "\n",
        "\n",
        "\n"
      ]
    },
    {
      "cell_type": "code",
      "execution_count": 80,
      "metadata": {},
      "outputs": [],
      "source": [
        "import joblib\n",
        "import pickle\n",
        "\n",
        "with open('model.pkl', 'wb') as f:\n",
        "    pickle.dump(rfc, f)"
      ]
    },
    {
      "cell_type": "code",
      "execution_count": 81,
      "metadata": {
        "colab": {
          "base_uri": "https://localhost:8080/"
        },
        "id": "ljT8umC5ugCL",
        "outputId": "e28eb98d-aef6-4786-a78d-c3bc7ff1d8a6"
      },
      "outputs": [
        {
          "name": "stdout",
          "output_type": "stream",
          "text": [
            "No Crime will occur\n"
          ]
        },
        {
          "name": "stderr",
          "output_type": "stream",
          "text": [
            "c:\\Python310\\lib\\site-packages\\sklearn\\base.py:458: UserWarning: X has feature names, but RandomForestClassifier was fitted without feature names\n",
            "  warnings.warn(\n"
          ]
        }
      ],
      "source": [
        "predicted_crimetype = rfc.predict(new_data)\n",
        "for i in range(len(predicted_crimetype)):\n",
        "  if predicted_crimetype[0][i]:\n",
        "    print(\"predicted crime:\",crimes[i])\n",
        "    break\n",
        "else:\n",
        "  print(\"No Crime will occur\")"
      ]
    },
    {
      "cell_type": "code",
      "execution_count": null,
      "metadata": {
        "id": "9IlP_YwFwPmM"
      },
      "outputs": [],
      "source": []
    },
    {
      "cell_type": "code",
      "execution_count": 82,
      "metadata": {
        "colab": {
          "base_uri": "https://localhost:8080/",
          "height": 559
        },
        "id": "HDp7p5oMrQad",
        "outputId": "892b6a47-4b45-47a7-b024-52778f5da94c"
      },
      "outputs": [
        {
          "name": "stdout",
          "output_type": "stream",
          "text": [
            "Index(['year', 'month', 'day', 'hour', 'dayofyear', 'week', 'weekofyear',\n",
            "       'act379', 'act13', 'act279', 'act323', 'act363', 'act302', 'latitude',\n",
            "       'longitude'],\n",
            "      dtype='object')\n"
          ]
        },
        {
          "data": {
            "text/plain": [
              "Text(0.5, 0, 'Relative Importance')"
            ]
          },
          "execution_count": 82,
          "metadata": {},
          "output_type": "execute_result"
        },
        {
          "data": {
            "image/png": "[encoded data removed]",
            "text/plain": [
              "<Figure size 640x480 with 1 Axes>"
            ]
          },
          "metadata": {},
          "output_type": "display_data"
        }
      ],
      "source": [
        "om=rfc.feature_importances_\n",
        "indices = np.argsort(om)\n",
        "indices=np.delete(indices,5)\n",
        "om\n",
        "features = data1.columns\n",
        "print(features)\n",
        "plt.figure(1)\n",
        "plt.title('Feature Importances')\n",
        "plt.barh(range(len(indices)), om[indices], color='b', align='center')\n",
        "plt.yticks(range(len(indices)), features[indices])\n",
        "plt.xlabel('Relative Importance')"
      ]
    },
    {
      "cell_type": "code",
      "execution_count": 83,
      "metadata": {
        "id": "OzPSPLEA1ZDw"
      },
      "outputs": [],
      "source": [
        "from sklearn.tree import DecisionTreeClassifier\n",
        "dtree = DecisionTreeClassifier(max_depth=500, random_state=300)\n",
        "dtree.fit(X_train,y_train)\n",
        "y_pred=dtree.predict(X_test)\n"
      ]
    },
    {
      "cell_type": "code",
      "execution_count": 84,
      "metadata": {},
      "outputs": [
        {
          "data": {
            "text/plain": [
              "0.9836858006042296"
            ]
          },
          "execution_count": 84,
          "metadata": {},
          "output_type": "execute_result"
        }
      ],
      "source": [
        "dtree.score(X_test,y_test)"
      ]
    },
    {
      "cell_type": "code",
      "execution_count": 85,
      "metadata": {},
      "outputs": [
        {
          "data": {
            "text/plain": [
              "0.9907813208402599"
            ]
          },
          "execution_count": 85,
          "metadata": {},
          "output_type": "execute_result"
        }
      ],
      "source": [
        "dtree.score(X_train,y_train)"
      ]
    },
    {
      "cell_type": "code",
      "execution_count": 86,
      "metadata": {},
      "outputs": [
        {
          "data": {
            "text/plain": [
              "array([[1, 0, 0, 0, 0, 0],\n",
              "       [0, 0, 0, 1, 0, 0],\n",
              "       [0, 0, 0, 0, 1, 0],\n",
              "       ...,\n",
              "       [0, 0, 0, 1, 0, 0],\n",
              "       [0, 0, 1, 0, 0, 0],\n",
              "       [1, 0, 0, 0, 0, 0]], dtype=int64)"
            ]
          },
          "execution_count": 86,
          "metadata": {},
          "output_type": "execute_result"
        }
      ],
      "source": [
        "y_pred"
      ]
    },
    {
      "cell_type": "code",
      "execution_count": 87,
      "metadata": {},
      "outputs": [],
      "source": [
        "treefeatures=dtree.feature_importances_\n",
        "indices = np.argsort(treefeatures)"
      ]
    },
    {
      "cell_type": "code",
      "execution_count": 88,
      "metadata": {},
      "outputs": [
        {
          "data": {
            "text/plain": [
              "array([0.00689733, 0.02891937, 0.38680433, 0.00698065, 0.02878743,\n",
              "       0.02224667, 0.24789165, 0.27147258])"
            ]
          },
          "execution_count": 88,
          "metadata": {},
          "output_type": "execute_result"
        }
      ],
      "source": [
        "treefeatures"
      ]
    },
    {
      "cell_type": "code",
      "execution_count": 89,
      "metadata": {},
      "outputs": [],
      "source": [
        "features = data1.iloc[:,[1,2,3,4,6,10,11]].values"
      ]
    },
    {
      "cell_type": "code",
      "execution_count": 90,
      "metadata": {},
      "outputs": [
        {
          "name": "stderr",
          "output_type": "stream",
          "text": [
            "c:\\Python310\\lib\\site-packages\\matplotlib\\text.py:1241: FutureWarning: elementwise comparison failed; returning scalar instead, but in the future will perform elementwise comparison\n",
            "  if s != self._text:\n"
          ]
        },
        {
          "data": {
            "text/plain": [
              "Text(0.5, 0, 'Relative Importance')"
            ]
          },
          "execution_count": 90,
          "metadata": {},
          "output_type": "execute_result"
        },
        {
          "data": {
            "image/png": "[encoded data removed]",
            "text/plain": [
              "<Figure size 640x480 with 1 Axes>"
            ]
          },
          "metadata": {},
          "output_type": "display_data"
        }
      ],
      "source": [
        "plt.figure(1)\n",
        "plt.title('Feature Importances')\n",
        "plt.barh(range(len(indices)), treefeatures[indices], color='b', align='center')\n",
        "plt.yticks(range(len(indices)), features[indices])\n",
        "plt.xlabel('Relative Importance')"
      ]
    },
    {
      "cell_type": "code",
      "execution_count": null,
      "metadata": {},
      "outputs": [],
      "source": []
    }
  ],
  "metadata": {
    "colab": {
      "provenance": []
    },
    "kernelspec": {
      "display_name": "Python 3",
      "name": "python3"
    },
    "language_info": {
      "codemirror_mode": {
        "name": "ipython",
        "version": 3
      },
      "file_extension": ".py",
      "mimetype": "text/x-python",
      "name": "python",
      "nbconvert_exporter": "python",
      "pygments_lexer": "ipython3",
      "version": "undefined.undefined.undefined"
    }
  },
  "nbformat": 4,
  "nbformat_minor": 0
}
